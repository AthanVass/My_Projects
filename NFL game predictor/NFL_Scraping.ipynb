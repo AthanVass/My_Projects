{
 "cells": [
  {
   "cell_type": "code",
   "execution_count": 3,
   "id": "a966ea21-5ae4-4ebc-92e6-a6c37af3e571",
   "metadata": {
    "editable": true,
    "slideshow": {
     "slide_type": ""
    },
    "tags": []
   },
   "outputs": [],
   "source": [
    "import requests "
   ]
  },
  {
   "cell_type": "code",
   "execution_count": 4,
   "id": "3fb8b5bd-17a1-401d-9164-deba51c604b5",
   "metadata": {},
   "outputs": [],
   "source": [
    "#Using BeautifulSoup to parse HTML link  \n",
    "from bs4 import BeautifulSoup "
   ]
  },
  {
   "cell_type": "code",
   "execution_count": 5,
   "id": "97154976-4394-4956-bfd0-341046703c0d",
   "metadata": {},
   "outputs": [],
   "source": [
    "#Using pandas to make match table into a dataframe \n",
    "#To ensure no future warning with the passing of raw HTMl strings, wrapping content with StringIO\n",
    "import pandas as pd\n",
    "from io import StringIO"
   ]
  },
  {
   "cell_type": "code",
   "execution_count": 6,
   "id": "4b4fdd45-d1c5-499d-93f3-03cbdabd2aee",
   "metadata": {},
   "outputs": [],
   "source": [
    "#Scraping multiple season data\n",
    "season_years = [2024,2023,2022]"
   ]
  },
  {
   "cell_type": "code",
   "execution_count": 7,
   "id": "cc2a58bb-96ee-4432-aff4-6d3e8f4c9d00",
   "metadata": {},
   "outputs": [],
   "source": [
    "all_regular_games = []"
   ]
  },
  {
   "cell_type": "code",
   "execution_count": 8,
   "id": "d3f9dc66-ec32-4f18-b1ab-43128a467396",
   "metadata": {},
   "outputs": [],
   "source": [
    "import time \n",
    "for year in season_years:\n",
    "    standings_url = f\"https://www.pro-football-reference.com/years/{year}/index.htm\"\n",
    "    data = requests.get(standings_url)\n",
    "    soup = BeautifulSoup(data.text, \"html.parser\")\n",
    "\n",
    "    #Extracting team links\n",
    "    standings_table = soup.select(\"table a\")\n",
    "    links = [l.get(\"href\") for l in standings_table]\n",
    "    links = [l for l in links if '/teams/' in l]\n",
    "    team_urls = [f\"https://www.pro-football-reference.com{l}\" for l in links]\n",
    "\n",
    "    previous_season = soup.select_one(\"a.prev\").get(\"href\")\n",
    "    standings_url = f\"https://www.pro-football-reference.com{previous_season}\"\n",
    "\n",
    "    for each_team in team_urls:\n",
    "        #extracting team abbreviation\n",
    "        team_name = each_team.split(\"/\")[-2]\n",
    "\n",
    "        \n",
    "        #Getting the page of current team\n",
    "        team_page = requests.get(each_team)\n",
    "        games_table = pd.read_html(StringIO(team_page.text), match=\"Schedule & Game Results\")[0]\n",
    "\n",
    "        \n",
    "        team_soup = BeautifulSoup(team_page.text)\n",
    "        links = [l.get(\"href\") for l in team_soup.find_all('a')]\n",
    "\n",
    "\n",
    "        games_table.columns = games_table.columns.droplevel(0)\n",
    "        games_table[\"Season\"] = year\n",
    "        games_table[\"Team\"] = team_name\n",
    "        \n",
    "        regular_games = games_table[\"Week\"].astype(str).str.isnumeric()\n",
    "        games = games_table[regular_games]\n",
    "\n",
    "        all_regular_games.append(games)\n",
    "\n",
    "        time.sleep(5)  "
   ]
  },
  {
   "cell_type": "code",
   "execution_count": 9,
   "id": "1a596a93-e158-49ba-875a-031ccb7ab74e",
   "metadata": {},
   "outputs": [],
   "source": [
    "match_df = pd.concat(all_regular_games, ignore_index = True)"
   ]
  },
  {
   "cell_type": "code",
   "execution_count": 10,
   "id": "bf337818-6862-438d-9b4d-4fc85715269a",
   "metadata": {},
   "outputs": [],
   "source": [
    "match_df.columns = [c.lower() for c in match_df.columns]"
   ]
  },
  {
   "cell_type": "code",
   "execution_count": 11,
   "id": "f3ce54ae-5ccf-43c8-86bf-644bd36d622c",
   "metadata": {},
   "outputs": [],
   "source": [
    "match_df.to_csv(\"Regular_season_data.csv\")"
   ]
  }
 ],
 "metadata": {
  "kernelspec": {
   "display_name": "Python 3 (ipykernel)",
   "language": "python",
   "name": "python3"
  },
  "language_info": {
   "codemirror_mode": {
    "name": "ipython",
    "version": 3
   },
   "file_extension": ".py",
   "mimetype": "text/x-python",
   "name": "python",
   "nbconvert_exporter": "python",
   "pygments_lexer": "ipython3",
   "version": "3.12.4"
  }
 },
 "nbformat": 4,
 "nbformat_minor": 5
}
